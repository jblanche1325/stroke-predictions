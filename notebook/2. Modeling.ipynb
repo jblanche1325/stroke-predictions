{
 "cells": [
  {
   "cell_type": "markdown",
   "metadata": {},
   "source": [
    "<h1> Stroke Predictions </h1>"
   ]
  },
  {
   "cell_type": "markdown",
   "metadata": {},
   "source": [
    "1. Context\n",
    "\n",
    "* According to the World Health Organization (WHO) stroke is the 2nd leading cause of death globally, responsible for approximately 11% of total deaths.\n",
    "This dataset is used to predict whether a patient is likely to get stroke based on the input parameters like gender, age, various diseases, and smoking status. Each row in the data provides relavant information about the patient."
   ]
  },
  {
   "cell_type": "markdown",
   "metadata": {},
   "source": [
    "2. Data Collection\n",
    "* Kaggle: https://www.kaggle.com/datasets/fedesoriano/stroke-prediction-dataset/data"
   ]
  },
  {
   "cell_type": "markdown",
   "metadata": {},
   "source": [
    "<h3> Import Libraries </h3>"
   ]
  },
  {
   "cell_type": "code",
   "execution_count": 24,
   "metadata": {},
   "outputs": [],
   "source": [
    "import warnings\n",
    "warnings.filterwarnings('ignore')\n",
    "\n",
    "# standard libraries\n",
    "import pandas as pd\n",
    "\n",
    "%matplotlib inline\n",
    "\n",
    "# modeling\n",
    "from sklearn.neighbors import KNeighborsClassifier\n",
    "from sklearn.tree import DecisionTreeClassifier\n",
    "from sklearn.ensemble import RandomForestClassifier, AdaBoostClassifier\n",
    "from sklearn.svm import SVC\n",
    "from sklearn.linear_model import LogisticRegression\n",
    "\n",
    "from sklearn.metrics import accuracy_score, precision_score, recall_score, roc_auc_score\n",
    "from sklearn.model_selection import train_test_split\n",
    "from sklearn.preprocessing import OneHotEncoder, StandardScaler\n",
    "from sklearn.compose import ColumnTransformer\n",
    "from sklearn.impute import KNNImputer\n",
    "from sklearn.pipeline import Pipeline\n",
    "\n",
    "from imblearn.over_sampling import SMOTE\n",
    "\n",
    "from catboost import CatBoostClassifier\n",
    "import lightgbm as lgb"
   ]
  },
  {
   "cell_type": "markdown",
   "metadata": {},
   "source": [
    "<h4> Import the csv into a Pandas DataFrame (df) </h4>"
   ]
  },
  {
   "cell_type": "code",
   "execution_count": 5,
   "metadata": {},
   "outputs": [],
   "source": [
    "df = pd.read_csv('data/healthcare-dataset-stroke-data.csv')"
   ]
  },
  {
   "cell_type": "markdown",
   "metadata": {},
   "source": [
    "<h4> Top 5 rows </h4>"
   ]
  },
  {
   "cell_type": "code",
   "execution_count": 6,
   "metadata": {},
   "outputs": [
    {
     "data": {
      "text/html": [
       "<div>\n",
       "<style scoped>\n",
       "    .dataframe tbody tr th:only-of-type {\n",
       "        vertical-align: middle;\n",
       "    }\n",
       "\n",
       "    .dataframe tbody tr th {\n",
       "        vertical-align: top;\n",
       "    }\n",
       "\n",
       "    .dataframe thead th {\n",
       "        text-align: right;\n",
       "    }\n",
       "</style>\n",
       "<table border=\"1\" class=\"dataframe\">\n",
       "  <thead>\n",
       "    <tr style=\"text-align: right;\">\n",
       "      <th></th>\n",
       "      <th>id</th>\n",
       "      <th>gender</th>\n",
       "      <th>age</th>\n",
       "      <th>hypertension</th>\n",
       "      <th>heart_disease</th>\n",
       "      <th>ever_married</th>\n",
       "      <th>work_type</th>\n",
       "      <th>Residence_type</th>\n",
       "      <th>avg_glucose_level</th>\n",
       "      <th>bmi</th>\n",
       "      <th>smoking_status</th>\n",
       "      <th>stroke</th>\n",
       "    </tr>\n",
       "  </thead>\n",
       "  <tbody>\n",
       "    <tr>\n",
       "      <th>0</th>\n",
       "      <td>9046</td>\n",
       "      <td>Male</td>\n",
       "      <td>67.0</td>\n",
       "      <td>0</td>\n",
       "      <td>1</td>\n",
       "      <td>Yes</td>\n",
       "      <td>Private</td>\n",
       "      <td>Urban</td>\n",
       "      <td>228.69</td>\n",
       "      <td>36.6</td>\n",
       "      <td>formerly smoked</td>\n",
       "      <td>1</td>\n",
       "    </tr>\n",
       "    <tr>\n",
       "      <th>1</th>\n",
       "      <td>51676</td>\n",
       "      <td>Female</td>\n",
       "      <td>61.0</td>\n",
       "      <td>0</td>\n",
       "      <td>0</td>\n",
       "      <td>Yes</td>\n",
       "      <td>Self-employed</td>\n",
       "      <td>Rural</td>\n",
       "      <td>202.21</td>\n",
       "      <td>NaN</td>\n",
       "      <td>never smoked</td>\n",
       "      <td>1</td>\n",
       "    </tr>\n",
       "    <tr>\n",
       "      <th>2</th>\n",
       "      <td>31112</td>\n",
       "      <td>Male</td>\n",
       "      <td>80.0</td>\n",
       "      <td>0</td>\n",
       "      <td>1</td>\n",
       "      <td>Yes</td>\n",
       "      <td>Private</td>\n",
       "      <td>Rural</td>\n",
       "      <td>105.92</td>\n",
       "      <td>32.5</td>\n",
       "      <td>never smoked</td>\n",
       "      <td>1</td>\n",
       "    </tr>\n",
       "    <tr>\n",
       "      <th>3</th>\n",
       "      <td>60182</td>\n",
       "      <td>Female</td>\n",
       "      <td>49.0</td>\n",
       "      <td>0</td>\n",
       "      <td>0</td>\n",
       "      <td>Yes</td>\n",
       "      <td>Private</td>\n",
       "      <td>Urban</td>\n",
       "      <td>171.23</td>\n",
       "      <td>34.4</td>\n",
       "      <td>smokes</td>\n",
       "      <td>1</td>\n",
       "    </tr>\n",
       "    <tr>\n",
       "      <th>4</th>\n",
       "      <td>1665</td>\n",
       "      <td>Female</td>\n",
       "      <td>79.0</td>\n",
       "      <td>1</td>\n",
       "      <td>0</td>\n",
       "      <td>Yes</td>\n",
       "      <td>Self-employed</td>\n",
       "      <td>Rural</td>\n",
       "      <td>174.12</td>\n",
       "      <td>24.0</td>\n",
       "      <td>never smoked</td>\n",
       "      <td>1</td>\n",
       "    </tr>\n",
       "  </tbody>\n",
       "</table>\n",
       "</div>"
      ],
      "text/plain": [
       "      id  gender   age  ...   bmi   smoking_status stroke\n",
       "0   9046    Male  67.0  ...  36.6  formerly smoked      1\n",
       "1  51676  Female  61.0  ...   NaN     never smoked      1\n",
       "2  31112    Male  80.0  ...  32.5     never smoked      1\n",
       "3  60182  Female  49.0  ...  34.4           smokes      1\n",
       "4   1665  Female  79.0  ...  24.0     never smoked      1\n",
       "\n",
       "[5 rows x 12 columns]"
      ]
     },
     "execution_count": 6,
     "metadata": {},
     "output_type": "execute_result"
    }
   ],
   "source": [
    "df.head()"
   ]
  },
  {
   "cell_type": "markdown",
   "metadata": {},
   "source": [
    "<h4> Prep Data </h4>"
   ]
  },
  {
   "cell_type": "markdown",
   "metadata": {},
   "source": [
    "<h5> Convert binary variables to categorical </h5>"
   ]
  },
  {
   "cell_type": "code",
   "execution_count": 9,
   "metadata": {},
   "outputs": [],
   "source": [
    "df['hypertension'] = df['hypertension'].astype(str)\n",
    "df['heart_disease'] = df['heart_disease'].astype(str)"
   ]
  },
  {
   "cell_type": "markdown",
   "metadata": {},
   "source": [
    "<h5> Define categorical and numeric variables </h5>"
   ]
  },
  {
   "cell_type": "code",
   "execution_count": 52,
   "metadata": {},
   "outputs": [],
   "source": [
    "categorical_features = ['gender', 'hypertension', 'heart_disease', 'ever_married', 'work_type', 'Residence_type', 'smoking_status']\n",
    "numeric_features = ['age', 'avg_glucose_level', 'bmi']"
   ]
  },
  {
   "cell_type": "markdown",
   "metadata": {},
   "source": [
    "<h5> Separate input and target variables </h5>"
   ]
  },
  {
   "cell_type": "code",
   "execution_count": 10,
   "metadata": {},
   "outputs": [],
   "source": [
    "X = df.drop(columns=['id', 'stroke'])"
   ]
  },
  {
   "cell_type": "code",
   "execution_count": 11,
   "metadata": {},
   "outputs": [],
   "source": [
    "y = df['stroke']"
   ]
  },
  {
   "cell_type": "markdown",
   "metadata": {},
   "source": [
    "<h5> Columns transformers </h5>"
   ]
  },
  {
   "cell_type": "code",
   "execution_count": 43,
   "metadata": {},
   "outputs": [],
   "source": [
    "numeric_transformer = Pipeline(steps=[\n",
    "    ('imputer', KNNImputer(n_neighbors=2, weights='uniform')),\n",
    "    ('scaler', StandardScaler())\n",
    "])\n",
    "\n",
    "categorical_transformer = Pipeline(steps=[\n",
    "    ('OneHotEncoder', OneHotEncoder())\n",
    "])"
   ]
  },
  {
   "cell_type": "code",
   "execution_count": 53,
   "metadata": {},
   "outputs": [],
   "source": [
    "preprocessor = ColumnTransformer(\n",
    "   remainder = 'passthrough',\n",
    "   transformers=[\n",
    "       ('categorical', categorical_transformer, categorical_features),\n",
    "       ('numeric', numeric_transformer, numeric_features)\n",
    "])"
   ]
  },
  {
   "cell_type": "code",
   "execution_count": 54,
   "metadata": {},
   "outputs": [],
   "source": [
    "X_transformed = preprocessor.fit_transform(X)"
   ]
  },
  {
   "cell_type": "markdown",
   "metadata": {},
   "source": [
    "<h5> Split data into train and test </h5>"
   ]
  },
  {
   "cell_type": "code",
   "execution_count": 55,
   "metadata": {},
   "outputs": [
    {
     "data": {
      "text/plain": [
       "((4088, 23), (1022, 23))"
      ]
     },
     "execution_count": 55,
     "metadata": {},
     "output_type": "execute_result"
    }
   ],
   "source": [
    "X_train, X_test, y_train, y_test = train_test_split(X_transformed, y, test_size=0.2, random_state=865)\n",
    "X_train.shape, X_test.shape"
   ]
  },
  {
   "cell_type": "markdown",
   "metadata": {},
   "source": [
    "<h5> Rebalance data using SMOTE </h5>"
   ]
  },
  {
   "cell_type": "code",
   "execution_count": null,
   "metadata": {},
   "outputs": [],
   "source": [
    "smote = SMOTE(random_state=865)\n",
    "X_train_smote, y_train_smote = smote.fit_resample(X_train, y_train)"
   ]
  },
  {
   "cell_type": "markdown",
   "metadata": {},
   "source": [
    "<h5> Function to evaluate models </h5>"
   ]
  },
  {
   "cell_type": "code",
   "execution_count": 20,
   "metadata": {},
   "outputs": [],
   "source": [
    "def evaluate_models(actual, predicted):\n",
    "    acc = accuracy_score(actual, predicted)\n",
    "    precision = precision_score(actual, predicted)\n",
    "    recall = recall_score(actual, predicted)\n",
    "    auc = roc_auc_score(actual, predicted)\n",
    "    return acc, precision, recall, auc"
   ]
  },
  {
   "cell_type": "markdown",
   "metadata": {},
   "source": [
    "<h4> Training </h4>"
   ]
  },
  {
   "cell_type": "code",
   "execution_count": 68,
   "metadata": {},
   "outputs": [
    {
     "name": "stdout",
     "output_type": "stream",
     "text": [
      "Logistic Regression\n",
      "Training set metrics\n",
      "Accuracy: 0.7865\n",
      "Precision: 0.7626\n",
      "Recall: 0.8321\n",
      "AUC: 0.7865\n",
      "********************\n",
      "Test set metrics\n",
      "Accuracy: 0.7456\n",
      "Precision: 0.1577\n",
      "Recall: 0.8393\n",
      "AUC: 0.7897\n",
      "****************************************\n",
      "\n",
      "\n",
      "KNN\n",
      "Training set metrics\n",
      "Accuracy: 0.9407\n",
      "Precision: 0.8976\n",
      "Recall: 0.9949\n",
      "AUC: 0.9407\n",
      "********************\n",
      "Test set metrics\n",
      "Accuracy: 0.8170\n",
      "Precision: 0.1124\n",
      "Recall: 0.3393\n",
      "AUC: 0.5920\n",
      "****************************************\n",
      "\n",
      "\n",
      "Decision Tree\n",
      "Training set metrics\n",
      "Accuracy: 1.0000\n",
      "Precision: 1.0000\n",
      "Recall: 1.0000\n",
      "AUC: 1.0000\n",
      "********************\n",
      "Test set metrics\n",
      "Accuracy: 0.8777\n",
      "Precision: 0.1290\n",
      "Recall: 0.2143\n",
      "AUC: 0.5652\n",
      "****************************************\n",
      "\n",
      "\n",
      "Random Forest\n",
      "Training set metrics\n",
      "Accuracy: 1.0000\n",
      "Precision: 1.0000\n",
      "Recall: 1.0000\n",
      "AUC: 1.0000\n",
      "********************\n",
      "Test set metrics\n",
      "Accuracy: 0.9139\n",
      "Precision: 0.0556\n",
      "Recall: 0.0357\n",
      "AUC: 0.5003\n",
      "****************************************\n",
      "\n",
      "\n",
      "AdaBoost\n",
      "Training set metrics\n",
      "Accuracy: 0.8742\n",
      "Precision: 0.8392\n",
      "Recall: 0.9258\n",
      "AUC: 0.8742\n",
      "********************\n",
      "Test set metrics\n",
      "Accuracy: 0.8072\n",
      "Precision: 0.1347\n",
      "Recall: 0.4643\n",
      "AUC: 0.6457\n",
      "****************************************\n",
      "\n",
      "\n",
      "SVM\n",
      "Training set metrics\n",
      "Accuracy: 0.9008\n",
      "Precision: 0.8587\n",
      "Recall: 0.9594\n",
      "AUC: 0.9008\n",
      "********************\n",
      "Test set metrics\n",
      "Accuracy: 0.8180\n",
      "Precision: 0.1307\n",
      "Recall: 0.4107\n",
      "AUC: 0.6262\n",
      "****************************************\n",
      "\n",
      "\n",
      "Cat Boosting\n",
      "Training set metrics\n",
      "Accuracy: 0.9879\n",
      "Precision: 0.9930\n",
      "Recall: 0.9828\n",
      "AUC: 0.9879\n",
      "********************\n",
      "Test set metrics\n",
      "Accuracy: 0.9237\n",
      "Precision: 0.1071\n",
      "Recall: 0.0536\n",
      "AUC: 0.5138\n",
      "****************************************\n",
      "\n",
      "\n",
      "[LightGBM] [Info] Number of positive: 3895, number of negative: 3895\n",
      "[LightGBM] [Info] Auto-choosing col-wise multi-threading, the overhead of testing was 0.000821 seconds.\n",
      "You can set `force_col_wise=true` to remove the overhead.\n",
      "[LightGBM] [Info] Total Bins 4759\n",
      "[LightGBM] [Info] Number of data points in the train set: 7790, number of used features: 21\n",
      "[LightGBM] [Info] [binary:BoostFromScore]: pavg=0.500000 -> initscore=0.000000\n",
      "Light GBM\n",
      "Training set metrics\n",
      "Accuracy: 0.9886\n",
      "Precision: 0.9905\n",
      "Recall: 0.9866\n",
      "AUC: 0.9886\n",
      "********************\n",
      "Test set metrics\n",
      "Accuracy: 0.9207\n",
      "Precision: 0.0968\n",
      "Recall: 0.0536\n",
      "AUC: 0.5123\n",
      "****************************************\n",
      "\n",
      "\n"
     ]
    }
   ],
   "source": [
    "models = {\n",
    "    'Logistic Regression': LogisticRegression(),\n",
    "    'KNN': KNeighborsClassifier(),\n",
    "    'Decision Tree': DecisionTreeClassifier(),\n",
    "    'Random Forest': RandomForestClassifier(),\n",
    "    'AdaBoost': AdaBoostClassifier(),\n",
    "    'SVM': SVC(),\n",
    "    'Cat Boosting': CatBoostClassifier(silent=True),\n",
    "    'Light GBM': lgb.LGBMClassifier()\n",
    "}\n",
    "\n",
    "model_list = []\n",
    "recall_list = []\n",
    "\n",
    "for i in range(len(list(models))):\n",
    "    model = list(models.values())[i]\n",
    "    model.fit(X_train_smote, y_train_smote)\n",
    "\n",
    "    # Predictions\n",
    "    y_train_pred = model.predict(X_train_smote)\n",
    "    y_test_pred = model.predict(X_test)\n",
    "\n",
    "    # Evaluate\n",
    "    model_train_accuracy, model_train_precision, model_train_recall, model_train_auc = evaluate_models(y_train_smote, y_train_pred)\n",
    "    model_test_accuracy, model_test_precision, model_test_recall, model_test_auc = evaluate_models(y_test, y_test_pred)\n",
    "\n",
    "    print(list(models.keys())[i])\n",
    "    model_list.append(list(models.keys())[i])\n",
    "\n",
    "    print('Training set metrics')\n",
    "    print('Accuracy: {:.4f}'.format(model_train_accuracy))\n",
    "    print('Precision: {:.4f}'.format(model_train_precision))\n",
    "    print('Recall: {:.4f}'.format(model_train_recall))\n",
    "    print('AUC: {:.4f}'.format(model_train_auc))\n",
    "\n",
    "    print('*'*20)\n",
    "\n",
    "    print('Test set metrics')\n",
    "    print('Accuracy: {:.4f}'.format(model_test_accuracy))\n",
    "    print('Precision: {:.4f}'.format(model_test_precision))\n",
    "    print('Recall: {:.4f}'.format(model_test_recall))\n",
    "    print('AUC: {:.4f}'.format(model_test_auc))\n",
    "\n",
    "    recall_list.append(model_test_recall)\n",
    "\n",
    "    print('*'*40)\n",
    "    print('\\n')\n"
   ]
  }
 ],
 "metadata": {
  "kernelspec": {
   "display_name": "Python 3",
   "language": "python",
   "name": "python3"
  },
  "language_info": {
   "codemirror_mode": {
    "name": "ipython",
    "version": 3
   },
   "file_extension": ".py",
   "mimetype": "text/x-python",
   "name": "python",
   "nbconvert_exporter": "python",
   "pygments_lexer": "ipython3",
   "version": "3.8.0"
  }
 },
 "nbformat": 4,
 "nbformat_minor": 2
}
